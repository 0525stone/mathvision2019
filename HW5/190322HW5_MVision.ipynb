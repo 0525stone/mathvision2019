{
 "cells": [
  {
   "cell_type": "markdown",
   "metadata": {},
   "source": [
    "## Rigid 변환 구하기\n"
   ]
  },
  {
   "cell_type": "code",
   "execution_count": 20,
   "metadata": {},
   "outputs": [
    {
     "data": {
      "text/plain": [
       "[]"
      ]
     },
     "execution_count": 20,
     "metadata": {},
     "output_type": "execute_result"
    }
   ],
   "source": [
    "# R1R2를 하나의 translation matrix로 생각하면 3x3의 행렬을 구하는 식으로 생각할 수 있다.\n",
    "# 세 쌍의 점이므로 등식 또한 9개가 만들어진다.\n",
    "# 세개의 방정식의 해를 구하는 방법으로 각 행의 요소를 구하면 된다.\n",
    "from sympy import Symbol, solve \n",
    "a = Symbol('a')\n",
    "b = Symbol('b')\n",
    "c = Symbol('c')\n",
    "equation1 = p1[0]*a+p1[1]*b+p1[2]*c-p1_[0]\n",
    "equation2 = p2[0]*a+p2[1]*b+p2[2]*c-p2_[0]\n",
    "equation3 = p3[0]*a+p3[1]*b+p3[2]*c-p3_[0]\n",
    "solve(equation1,equation2, equation3,dict=True)"
   ]
  },
  {
   "cell_type": "code",
   "execution_count": 21,
   "metadata": {},
   "outputs": [
    {
     "data": {
      "text/plain": [
       "[{b: -4*c/7 + 11/7, a: c/7 - 1/7}]"
      ]
     },
     "execution_count": 21,
     "metadata": {},
     "output_type": "execute_result"
    }
   ],
   "source": [
    "\n",
    "equation1 = a + 2 * b+c - 3\n",
    "equation2 = 3 * a - b-c + 2\n",
    "solve((equation1, equation2), dict=True)\n"
   ]
  },
  {
   "cell_type": "code",
   "execution_count": 1,
   "metadata": {},
   "outputs": [],
   "source": [
    "import numpy as np\n",
    "import math\n",
    "p1o = np.array([-.5, 0, 2.12])    # _o : original(A 점들)\n",
    "p2o = np.array([.5, 0, 2.12])\n",
    "p3o = np.array([.5, -.71,2.83])\n",
    "p4o = np.array([.5, .71, 2.83])\n",
    "p5o = np.array([1, 1, 1])\n",
    "p1o_ = np.array([1.36,-.43,2.34]) # p' (A' 점들)\n",
    "p2o_ = np.array([1.75, .44, 2.02])\n",
    "p3o_ = np.array([2.64, .18, 2.40])\n",
    "p4o_ = np.array([1.50, .87, 2.88])\n",
    "\n",
    "# p1이 원점이 되도록 A를 평행이동 = vector\n",
    "p1 = p1o - p1o\n",
    "p2 = p2o - p1o\n",
    "p3 = p3o - p1o\n",
    "p4 = p4o - p1o\n",
    "p5 = p5o - p1o\n",
    "p1_ = p1o_ - p1o_\n",
    "p2_ = p2o_ - p1o_\n",
    "p3_ = p3o_ - p1o_\n",
    "p4_ = p4o_ - p1o_"
   ]
  },
  {
   "cell_type": "code",
   "execution_count": 14,
   "metadata": {},
   "outputs": [],
   "source": [
    "# magnitude 구하는 함수\n",
    "def mag(x): \n",
    "    return math.sqrt(sum(i**2 for i in x))\n",
    "\n",
    "def mat_mul(r,x):\n",
    "    a = np.array([x[0]*r[0] , x[1]*r[1] , x[2]*r[2]])\n",
    "    return a\n",
    "def mat_vec(R,x):\n",
    "    a = np.array([np.sum(mat_mul(R[0],x)),np.sum(mat_mul(R[1],x)),np.sum(mat_mul(R[2],x))])\n",
    "    return a"
   ]
  },
  {
   "cell_type": "code",
   "execution_count": 3,
   "metadata": {},
   "outputs": [
    {
     "name": "stdout",
     "output_type": "stream",
     "text": [
      "0.24650355585587463 -0.4314310415747523 -0.8725269355820108\n",
      "[ 0.2474 -0.433  -0.8757]\n"
     ]
    }
   ],
   "source": [
    "# original 점 3개로 평면 정의 (법선 벡터 구하기)\n",
    "# translation의 점 3개로 평면 정의 (법선 벡터 구하기)\n",
    "h = np.array([p2[1]*p3[2]-p3[1]*p2[2], -p2[0]*p3[2]+p3[0]*p2[2],  p2[0]*p3[1]- p3[0]*p2[1] ]) #h\n",
    "h_ = np.array([p2_[1]*p3_[2]-p3_[1]*p2_[2], -p2_[0]*p3_[2]+p3_[0]*p2_[2],  p2_[0]*p3_[1]- p3_[0]*p2_[1] ]) #h_\n",
    "\n",
    "# 두 평면의 법선벡터의 cross product 결과\n",
    "n_ot_raw = np.array([h[1]*h_[2]-h_[1]*h[2], -h[0]*h_[2]+h_[0]*h[2],  h[0]*h_[1]- h_[0]*h[1]])\n",
    "sin = mag(n_ot_raw)/(mag(h)*mag(h_))\n",
    "n_ot = n_ot_raw/mag(n_ot_raw)\n",
    "\n",
    "# dot product로 cos 구하기\n",
    "dot_ot = np.sum(h*h_)\n",
    "cos = dot_ot/(mag(h)*mag(h_))\n",
    "\n",
    "# 공식 그대로 해서 R1 구하기\n",
    "r1 = cos+n_ot[0]*n_ot[0]*(1-cos)\n",
    "r2 = n_ot[0]*n_ot[1]*(1-cos)-n_ot[2]*sin\n",
    "r3 = n_ot[0]*n_ot[2]*(1-cos)+n_ot[1]*sin\n",
    "r4 = n_ot[1]*n_ot[0]*(1-cos)+n_ot[2]*sin\n",
    "r5 = cos+n_ot[1]*n_ot[1]*(1-cos)\n",
    "r6 = n_ot[1]*n_ot[2]*(1-cos)-n_ot[0]*sin\n",
    "r7 = n_ot[0]*n_ot[2]*(1-cos)-n_ot[1]*sin\n",
    "r8 = n_ot[2]*n_ot[1]*(1-cos)+n_ot[0]*sin\n",
    "r9 = cos+n_ot[2]*n_ot[2]*(1-cos)\n",
    "R1 = np.array([[r1,r2,r3],[r4,r5,r6],[r7,r8,r9]])\n",
    "\n",
    "xco = np.sum(mat_mul(R1[0],h))\n",
    "yco = np.sum(mat_mul(R1[1],h))\n",
    "zco = np.sum(mat_mul(R1[2],h))\n",
    "print(xco,yco,zco)\n",
    "print(h_)"
   ]
  },
  {
   "cell_type": "code",
   "execution_count": 10,
   "metadata": {},
   "outputs": [
    {
     "data": {
      "text/plain": [
       "array([[ 0.96858134, -0.20170448, -0.14548363],\n",
       "       [ 0.14548363,  0.93398959, -0.32634024],\n",
       "       [ 0.20170448,  0.29492158,  0.93398959]])"
      ]
     },
     "execution_count": 10,
     "metadata": {},
     "output_type": "execute_result"
    }
   ],
   "source": [
    "R1"
   ]
  },
  {
   "cell_type": "code",
   "execution_count": 11,
   "metadata": {},
   "outputs": [
    {
     "data": {
      "text/plain": [
       "array([[ 0.46823522, -0.84250333,  0.26635301],\n",
       "       [ 0.72312259,  0.53860058,  0.43243859],\n",
       "       [-0.50778884, -0.0098771 ,  0.86142495]])"
      ]
     },
     "execution_count": 11,
     "metadata": {},
     "output_type": "execute_result"
    }
   ],
   "source": [
    "R2"
   ]
  },
  {
   "cell_type": "code",
   "execution_count": 9,
   "metadata": {},
   "outputs": [
    {
     "name": "stdout",
     "output_type": "stream",
     "text": [
      "1.278123842231119 0.6091058935632676 0.05991205510458375\n",
      "[1.28 0.61 0.06]\n"
     ]
    }
   ],
   "source": [
    "# 공식 그대로 R2 구하기\n",
    "# h_ 가 회전축, p3, p3_로 각도 구하기\n",
    "# p3의 cross product\n",
    "\n",
    "# R1(p3-p1) -> p3_-p1_\n",
    "p3d = np.array([np.sum(mat_mul(R1[0],p3)),np.sum(mat_mul(R1[1],p3)),np.sum(mat_mul(R1[2],p3))])\n",
    "\n",
    "p3_c = np.array([p3d[1]*p3_[2]-p3_[1]*p3d[2], -p3d[0]*p3_[2]+p3_[0]*p3d[2],  p3d[0]*p3_[1]- p3_[0]*p3d[1]])\n",
    "sin3 = mag(p3_c)/(mag(p3d)*mag(p3_))\n",
    "n_ot3 = p3_c/mag(p3_c)\n",
    "# p3의 dot product\n",
    "p3_d = np.sum(p3d*p3_)\n",
    "cos3 = p3_d/(mag(p3d)*mag(p3_))\n",
    "\n",
    "# 공식 그대로 해서 R2구하기\n",
    "r1_ = cos3+n_ot3[0]*n_ot3[0]*(1-cos3)\n",
    "r2_ = n_ot3[0]*n_ot3[1]*(1-cos3)-n_ot3[2]*sin3\n",
    "r3_ = n_ot3[0]*n_ot3[2]*(1-cos3)+n_ot3[1]*sin3\n",
    "r4_ = n_ot3[1]*n_ot3[0]*(1-cos3)+n_ot3[2]*sin3\n",
    "r5_ = cos3+n_ot3[1]*n_ot3[1]*(1-cos3)\n",
    "r6_ = n_ot3[1]*n_ot3[2]*(1-cos3)-n_ot3[0]*sin3\n",
    "r7_ = n_ot3[0]*n_ot3[2]*(1-cos3)-n_ot3[1]*sin3\n",
    "r8_ = n_ot3[2]*n_ot3[1]*(1-cos3)+n_ot3[0]*sin3\n",
    "r9_ = cos3+n_ot3[2]*n_ot3[2]*(1-cos3)\n",
    "R2 = np.array([[r1_,r2_,r3_],[r4_,r5_,r6_],[r7_,r8_,r9_]])\n",
    "\n",
    "xco = np.sum(mat_mul(R2[0],p3d))\n",
    "yco = np.sum(mat_mul(R2[1],p3d))\n",
    "zco = np.sum(mat_mul(R2[2],p3d))\n",
    "print(xco,yco,zco)\n",
    "print(p3_)"
   ]
  },
  {
   "cell_type": "code",
   "execution_count": 8,
   "metadata": {},
   "outputs": [
    {
     "name": "stdout",
     "output_type": "stream",
     "text": [
      "0.4682352161247249 0.7231225869623845 -0.5077888405680661\n",
      "[ 0.39  0.87 -0.32]\n"
     ]
    }
   ],
   "source": [
    "# p2 확인\n",
    "xco = np.sum(mat_mul(R2[0],p2))\n",
    "yco = np.sum(mat_mul(R2[1],p2))\n",
    "zco = np.sum(mat_mul(R2[2],p2))\n",
    "print(xco,yco,zco)\n",
    "print(p2_)"
   ]
  },
  {
   "cell_type": "code",
   "execution_count": 19,
   "metadata": {},
   "outputs": [
    {
     "name": "stdout",
     "output_type": "stream",
     "text": [
      "[0.14 1.3  0.54]\n",
      "[0.1381745  1.29741646 0.55300845]\n"
     ]
    }
   ],
   "source": [
    "print(p4_)\n",
    "print(mat_vec(R2,(mat_vec(R1,p4))))"
   ]
  },
  {
   "cell_type": "code",
   "execution_count": 21,
   "metadata": {},
   "outputs": [
    {
     "name": "stdout",
     "output_type": "stream",
     "text": [
      "[-0.73602845  1.64602943 -1.11948615]\n"
     ]
    }
   ],
   "source": [
    "print(mat_vec(R2,(mat_vec(R1,p5))))"
   ]
  },
  {
   "cell_type": "code",
   "execution_count": 28,
   "metadata": {},
   "outputs": [
    {
     "data": {
      "text/plain": [
       "array([0.62397155, 1.21602943, 1.22051385])"
      ]
     },
     "execution_count": 28,
     "metadata": {},
     "output_type": "execute_result"
    }
   ],
   "source": [
    "# translation 필요\n",
    "p1o_+mat_vec(R2,(mat_vec(R1,p5)))"
   ]
  },
  {
   "cell_type": "code",
   "execution_count": null,
   "metadata": {},
   "outputs": [],
   "source": []
  }
 ],
 "metadata": {
  "kernelspec": {
   "display_name": "Python 3",
   "language": "python",
   "name": "python3"
  },
  "language_info": {
   "codemirror_mode": {
    "name": "ipython",
    "version": 3
   },
   "file_extension": ".py",
   "mimetype": "text/x-python",
   "name": "python",
   "nbconvert_exporter": "python",
   "pygments_lexer": "ipython3",
   "version": "3.6.8"
  }
 },
 "nbformat": 4,
 "nbformat_minor": 2
}
